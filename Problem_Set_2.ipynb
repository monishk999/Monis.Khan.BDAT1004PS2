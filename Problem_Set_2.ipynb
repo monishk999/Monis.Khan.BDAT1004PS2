{
 "cells": [
  {
   "attachments": {},
   "cell_type": "markdown",
   "metadata": {},
   "source": [
    "# Problem Set-2 \n",
    "Question 1\n",
    "Consider the following Python module:\n",
    "After importing the module into the interpreter, you execute:"
   ]
  },
  {
   "cell_type": "code",
   "execution_count": 121,
   "metadata": {},
   "outputs": [
    {
     "name": "stdout",
     "output_type": "stream",
     "text": [
      "6\n"
     ]
    }
   ],
   "source": [
    "a = 0\n",
    "def b():\n",
    "    global a    # declaring the variable as a global variable\n",
    "    a = c(a)\n",
    "\n",
    "def c(a):\n",
    "    return a + 2\n",
    "\n",
    "b()\n",
    "b()\n",
    "b()\n",
    "print(a)"
   ]
  },
  {
   "attachments": {},
   "cell_type": "markdown",
   "metadata": {},
   "source": [
    "the final output of a is 6.\n",
    "\n",
    "step1: when the function b is called for first time\n",
    "\n",
    "a=0\n",
    "\n",
    "a=c(a) function calling\n",
    "\n",
    "returning value of a =2 (0+2)\n",
    "\n",
    "step2: when the function b is called for second time\n",
    "\n",
    "a=2\n",
    "\n",
    "a=c(a) function calling\n",
    "\n",
    "returning value of a =4 (2+2)\n",
    "\n",
    "step3: when the function b is called for third time\n",
    "\n",
    "a=4\n",
    "\n",
    "a=c(a) function calling\n",
    "\n",
    "returning value of a =6 (4+2)\n",
    "\n",
    "Printing value of a=6"
   ]
  },
  {
   "attachments": {},
   "cell_type": "markdown",
   "metadata": {},
   "source": [
    "# Question 2 \n",
    "Function fileLength(), given to you, takes the name of a file as input and returns the length of the file:\n",
    "\n",
    "As shown above, if the file cannot be found by the interpreter or if it cannot be read as a text file, an exception will be raised. Modify function fileLength() so that a friendly message is printed instead:"
   ]
  },
  {
   "cell_type": "code",
   "execution_count": 122,
   "metadata": {},
   "outputs": [
    {
     "name": "stdout",
     "output_type": "stream",
     "text": [
      "C:\\Users\\Lenovo\\Desktop\\assignments\\w3c.txt\n",
      "Length of the file is 396\n",
      "C:\\Users\\Lenovo\\Desktop\\assignments\\wc.txt\n",
      "File C:\\Users\\Lenovo\\Desktop\\assignments\\wc.txt not found\n"
     ]
    }
   ],
   "source": [
    "def file_length(file_name):\n",
    "    try:\n",
    "        file = open(file_name)\n",
    "        contents = file.read()\n",
    "        file.close()\n",
    "        l=len(contents)\n",
    "        print(f'Length of the file is {l}')\n",
    "    except:\n",
    "        print(f'File {file_name} not found')\n",
    "\n",
    "m=input('Enter the name of file to count the character length')\n",
    "print(m)\n",
    "file_length(m)\n",
    "\n",
    "m=input(' Enter the name of file to count the character length')\n",
    "print(m)\n",
    "file_length(m)\n",
    "\n"
   ]
  },
  {
   "attachments": {},
   "cell_type": "markdown",
   "metadata": {},
   "source": [
    "# Question 3 \n",
    "Write a class named Marsupial that can be used as shown below:\n",
    "\n",
    "Now write a class named Kangaroo as a subclass of Marsupial that inherits all the attributes of Marsupial and also:\n",
    "a. extends the Marsupial __init__ constructor to take, as input, the coordinates x and y of the Kangaroo object,\n",
    "b. supports method jump that takes number values dx and dy as input and moves the kangaroo by dx units along the x-axis and by dy units along the y-axis, and\n",
    "c. overloads the __str__ operator so it behaves as shown below."
   ]
  },
  {
   "cell_type": "code",
   "execution_count": 123,
   "metadata": {},
   "outputs": [
    {
     "name": "stdout",
     "output_type": "stream",
     "text": [
      "['kitten', 'firetruck', 'doll']\n",
      "I am a Kangaroo located at coordinates (0,0)\n",
      "['doll', 'firetruck', 'kitten']\n",
      "None\n",
      "I am a Kangaroo located at coordinates (3,0)\n"
     ]
    }
   ],
   "source": [
    "class Marsupial:\n",
    "    def __init__(self):\n",
    "        self.pouch = []\n",
    "\n",
    "    def put_in_pouch(self, item):\n",
    "        self.pouch.append(item)\n",
    "\n",
    "    def pouch_contents(self):\n",
    "        print(self.pouch)\n",
    "\n",
    "class Kangaroo(Marsupial):\n",
    "    def __init__(self, x, y):\n",
    "        super().__init__()\n",
    "        self.x = x\n",
    "        self.y = y\n",
    "\n",
    "    def jump(self, dx, dy):\n",
    "        self.x += dx\n",
    "        self.y += dy\n",
    "\n",
    "    def __str__(self):\n",
    "        return f\"I am a Kangaroo located at coordinates ({self.x},{self.y})\"\n",
    "\n",
    "\n",
    "m=Marsupial()\n",
    "m.put_in_pouch('kitten')\n",
    "m.put_in_pouch('firetruck')\n",
    "m.put_in_pouch('doll')   \n",
    "m.pouch_contents() \n",
    "\n",
    "k = Kangaroo(0, 0)\n",
    "print(k) \n",
    "k.put_in_pouch('doll')\n",
    "k.put_in_pouch('firetruck')\n",
    "k.put_in_pouch('kitten')\n",
    "print(k.pouch_contents())  \n",
    "k.jump(1, 0)\n",
    "k.jump(1, 0)\n",
    "k.jump(1, 0)\n",
    "print(k)  "
   ]
  },
  {
   "attachments": {},
   "cell_type": "markdown",
   "metadata": {},
   "source": [
    "# Question 4\n",
    "Write function collatz() that takes a positive integer x as input and prints the Collatz sequence starting at x. A Collatz sequence is obtained by repeatedly applying this rule to the previous number x in the sequence:\n",
    "\n",
    "x = { 𝑥/2 𝑖𝑓 𝑥 𝑖𝑠 𝑒𝑣𝑒𝑛 ; 3𝑥+1 𝑖𝑓 𝑥 𝑖𝑠 𝑜𝑑𝑑\n",
    "\n",
    "Your function should stop when the sequence gets to number 1. Your implementation must be recursive, without any loops."
   ]
  },
  {
   "cell_type": "code",
   "execution_count": 124,
   "metadata": {},
   "outputs": [
    {
     "name": "stdout",
     "output_type": "stream",
     "text": [
      "collatz series for number 10\n",
      "5.0\n",
      "16.0\n",
      "8.0\n",
      "4.0\n",
      "2.0\n",
      "1.0\n"
     ]
    }
   ],
   "source": [
    "def collatz(n):\n",
    "    if n%2 ==0:\n",
    "        n=n/2\n",
    "        print(n)\n",
    "        collatz(n)\n",
    "    else:\n",
    "        if n == 1:\n",
    "            #print(n)\n",
    "            return(1)\n",
    "        else:\n",
    "            n=3*n +1\n",
    "            print(n)\n",
    "            collatz(n)\n",
    "num=input('Enter a positive Integer')\n",
    "print(f'collatz series for number {num}')\n",
    "\n",
    "collatz(10)"
   ]
  },
  {
   "attachments": {},
   "cell_type": "markdown",
   "metadata": {},
   "source": [
    "# Question 5\n",
    " Write a recursive method binary() that takes a non-negative integer n and prints the binary representation of integer n."
   ]
  },
  {
   "cell_type": "code",
   "execution_count": 120,
   "metadata": {},
   "outputs": [
    {
     "name": "stdout",
     "output_type": "stream",
     "text": [
      "0\n",
      "1\n",
      "11\n",
      "1001"
     ]
    }
   ],
   "source": [
    "def binary(n):\n",
    "    if n > 1:\n",
    "        binary(n//2)\n",
    "    print (n%2,end='' )\n",
    "\n",
    "binary(0)\n",
    "print()\n",
    "binary(1)\n",
    "print()\n",
    "binary(3)\n",
    "print()\n",
    "binary(9)"
   ]
  },
  {
   "attachments": {},
   "cell_type": "markdown",
   "metadata": {},
   "source": [
    "# Question 6\n",
    "Implement a class named HeadingParser that can be used to parse an HTML document, and retrieve and print all the headings in the document. You should implement your class as a subclass of HTMLParser, defined in Standard Library module html.parser. When fed a string containing HTML code, your class should print the headings, one per line and in the order in which they appear in the document. Each heading should be indented as follows: an h1 heading should have indentation 0, and h2 heading should have indentation 1, etc. Test your implementation using w3c.html."
   ]
  },
  {
   "cell_type": "code",
   "execution_count": null,
   "metadata": {},
   "outputs": [],
   "source": []
  },
  {
   "attachments": {},
   "cell_type": "markdown",
   "metadata": {},
   "source": [
    "# Question 7 \n",
    "Implement recursive function webdir() that takes as input: a URL (as a string) and non-negative integers depth and indent. Your function should visit every web page reachable from the starting URL web page in depth clicks or less, and print each web page's URL. As shown below, indentation, specified by indent, should be used to indicate the depth of a URL."
   ]
  },
  {
   "attachments": {},
   "cell_type": "markdown",
   "metadata": {},
   "source": []
  },
  {
   "cell_type": "code",
   "execution_count": null,
   "metadata": {},
   "outputs": [],
   "source": []
  },
  {
   "attachments": {},
   "cell_type": "markdown",
   "metadata": {},
   "source": [
    "# Question 8\n",
    "Write SQL queries on the below database table that return:\n",
    "\n",
    "# Queries for below cases\n",
    "a) All the temperature data. \n",
    "\n",
    "SELECT * FROM TABLE_NAME;\n",
    "\n",
    "\n",
    "b) All the cities, but without repetition. \n",
    "\n",
    "SELECT DISTINCT CITY FROM TABLE_NAME;\n",
    "\n",
    "\n",
    "c) All the records for India. \n",
    "\n",
    "SELECT * FROM TABLE_NAME WHERE COUNTRY='India';\n",
    "\n",
    "\n",
    "d) All the Fall records. \n",
    "\n",
    "select * from table_name where season='Fall';\n",
    "\n",
    "\n",
    "e) The city, country, and season for which the average rainfall is between 200 and 400 millimeters. \n",
    "\n",
    "select city, country, season, avg(rainfall) from table_name group by city, country,season having avg(rainfall)>199 and avg(rainfall) < 401;\n",
    "\n",
    "\n",
    "f) The city and country for which the average Fall temperature is above 20 degrees, in increasing temperature order. \n",
    "\n",
    "SELECT CITY,COUNTRY, AVG(TEMPERATURE) FROM TABLE_NAME GROUP BY CITY,COUNTRY HAVING AVG(TEMPERATURE)>20;\n",
    "\n",
    "\n",
    "g) The total annual rainfall for Cairo. \n",
    "\n",
    "SELECT CITY, AVG(RAINFALL) AS \"AVERAGE_RAINFALL\" FROM TABLE_NAME WHERE CITY ='Cairo' group by city;\n",
    "\n",
    "\n",
    "h) The total rainfall for each season. \n",
    "\n",
    "select season,sum(rainfall) from rain group by season;\n"
   ]
  },
  {
   "attachments": {},
   "cell_type": "markdown",
   "metadata": {},
   "source": [
    "# Question 9\n",
    "Suppose list words is defined as follows: >>> words = ['The', 'quick', 'brown', 'fox', 'jumps', 'over', 'the', 'lazy', 'dog'] Write list comprehension expressions that use list words and generate the following lists: \n",
    "\n",
    "a) ['THE', 'QUICK', 'BROWN', 'FOX', 'JUMPS', 'OVER', 'THE', 'LAZY', 'DOG'] \n",
    "\n",
    "b) ['the', 'quick', 'brown', 'fox', 'jumps', 'over', 'the', 'lazy', 'dog'] \n",
    "\n",
    "c) [3, 5, 5, 3, 5, 4, 3, 4, 3] (the list of lengths of words in list words). \n",
    "\n",
    "d) [['THE', 'the', 3], ['QUICK', 'quick', 5], ['BROWN', 'brown', 5], ['FOX', 'fox', 3], ['JUMPS', 'jumps', 5], ['OVER', 'over', 4], ['THE', 'the', 3], ['LAZY', 'lazy', 4], ['DOG', 'dog', 3]] (the list containing a list for every word of list words, where each list contains the word in uppercase and lowercase and the length of the word.) \n",
    "\n",
    "e) ['The', 'quick', 'brown', 'fox', 'jumps', 'over', 'the', 'lazy', 'dog'] (the list of words in list words containing 4 or more characters.) "
   ]
  },
  {
   "cell_type": "code",
   "execution_count": 119,
   "metadata": {},
   "outputs": [
    {
     "name": "stdout",
     "output_type": "stream",
     "text": [
      "['THE', 'QUICK', 'BROWN', 'FOX', 'JUMPS', 'OVER', 'THE', 'LAZY', 'DOG']\n",
      "['the', 'quick', 'brown', 'fox', 'jumps', 'over', 'the', 'lazy', 'dog']\n",
      "[3, 5, 5, 3, 5, 4, 3, 4, 3]\n",
      "[['THE', 'the', 3], ['QUICK', 'quick', 5], ['BROWN', 'brown', 5], ['FOX', 'fox', 3], ['JUMPS', 'jumps', 5], ['OVER', 'over', 4], ['THE', 'the', 3], ['LAZY', 'lazy', 4]]\n",
      "['quick', 'brown', 'jumps', 'over', 'lazy']\n"
     ]
    }
   ],
   "source": [
    "def uppercase():\n",
    "    up_words=[element.upper() for element in words];words\n",
    "    return(up_words)\n",
    "def lowercase():\n",
    "    lw_words=[element.lower() for element in words];words\n",
    "    return(lw_words)\n",
    "def char_cnt():\n",
    "    cnt=[len(element) for element in words];words\n",
    "    return(cnt)\n",
    "def concat():\n",
    "    list1=[]\n",
    "    for i in range(0,len(x)-1):\n",
    "        tmp=[]\n",
    "        tmp.append(x[i])\n",
    "        tmp.append(y[i])\n",
    "        tmp.append(z[i])\n",
    "        list1.append(tmp)\n",
    "    return(list1)\n",
    "def four_char():\n",
    "    list2=[]\n",
    "    for i in words:\n",
    "        if len(i) >= 4:\n",
    "            list2.append(i)\n",
    "    return(list2)\n",
    "\n",
    "global words,x,y,z\n",
    "words = ['The', 'quick', 'brown', 'fox', 'jumps', 'over', 'the', 'lazy', 'dog']\n",
    "x=uppercase()\n",
    "print(x)\n",
    "y=lowercase()\n",
    "print(y)\n",
    "z=char_cnt()\n",
    "print(z)\n",
    "con=concat()\n",
    "print(con)\n",
    "fc=four_char()\n",
    "print(fc)"
   ]
  },
  {
   "cell_type": "code",
   "execution_count": null,
   "metadata": {},
   "outputs": [],
   "source": []
  }
 ],
 "metadata": {
  "kernelspec": {
   "display_name": "Python 3",
   "language": "python",
   "name": "python3"
  },
  "language_info": {
   "codemirror_mode": {
    "name": "ipython",
    "version": 3
   },
   "file_extension": ".py",
   "mimetype": "text/x-python",
   "name": "python",
   "nbconvert_exporter": "python",
   "pygments_lexer": "ipython3",
   "version": "3.9.13"
  },
  "orig_nbformat": 4
 },
 "nbformat": 4,
 "nbformat_minor": 2
}
